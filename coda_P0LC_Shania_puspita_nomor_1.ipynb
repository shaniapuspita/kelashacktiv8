{
  "nbformat": 4,
  "nbformat_minor": 0,
  "metadata": {
    "colab": {
      "provenance": []
    },
    "kernelspec": {
      "name": "python3",
      "display_name": "Python 3"
    },
    "language_info": {
      "name": "python"
    }
  },
  "cells": [
    {
      "cell_type": "markdown",
      "source": [
        "Jawaban untuk soal nomor 1"
      ],
      "metadata": {
        "id": "RT8UxG9eyWAA"
      }
    },
    {
      "cell_type": "code",
      "execution_count": null,
      "metadata": {
        "id": "FJIEfpDyyUJH"
      },
      "outputs": [],
      "source": [
        "SELECT start_station_name,count(trip_id) FROM `bigquery-public-data.san_francisco_bikeshare.bikeshare_trips`\n",
        "where extract(YEAR FROM start_date) = 2024\n",
        "GROUP BY start_station_name\n",
        "Order BY count(trip_id) DESC;"
      ]
    }
  ]
}